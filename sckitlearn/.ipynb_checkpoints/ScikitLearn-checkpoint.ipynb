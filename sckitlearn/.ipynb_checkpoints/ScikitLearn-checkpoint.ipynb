{
 "cells": [
  {
   "cell_type": "markdown",
   "metadata": {
    "id": "Bwm3Ce3oIgYi"
   },
   "source": [
    "# 사이킷런(scikit-learn) 시작\n",
    "\n",
    "![scikit-learn logo.png](https://drive.google.com/uc?id=1Aeb0mBJzYgz7UGmHAdGsQJF44EM9mNTD)"
   ]
  },
  {
   "cell_type": "markdown",
   "metadata": {
    "id": "UhF1mufkp8TQ"
   },
   "source": [
    "## scikit-learn 특징\n",
    "\n",
    "* 다양한 머신러닝 알고리즘을 구현한 파이썬 라이브러리\n",
    "* 심플하고 일관성 있는 API, 유용한 온라인 문서, 풍부한 예제 제공\n",
    "* 머신러닝을 위한 쉽고 효율적인 개발 라이브러리 제공\n",
    "* 다양한 머신러닝 관련 알고리즘과 개발을 위한 프레임워크와 API 제공\n",
    "* 많은 사람들이 사용하며 다양한 환경에서 검증된 라이브러리"
   ]
  },
  {
   "cell_type": "markdown",
   "metadata": {
    "id": "19ORAlQckvSb"
   },
   "source": [
    "## scikit-learn 주요 모듈"
   ]
  },
  {
   "cell_type": "markdown",
   "metadata": {
    "id": "0WgAOokAPVvG"
   },
   "source": [
    "![scikit-learn](https://scikit-learn.org/stable/_static/ml_map.png)\n",
    "\n"
   ]
  },
  {
   "cell_type": "markdown",
   "metadata": {
    "id": "n4luZ6ock5rm"
   },
   "source": [
    "| 모듈 | 설명 |\n",
    "|------|------|\n",
    "| `sklearn.datasets` | 내장된 예제 데이터 세트 |\n",
    "| `sklearn.preprocessing` | 다양한 데이터 전처리 기능 제공 (변환, 정규화, 스케일링 등) |\n",
    "| `sklearn.feature_selection` | 특징(feature)를 선택할 수 있는 기능 제공 | \n",
    "| `sklearn.feature_extraction` | 특징(feature) 추출에 사용 |\n",
    "| `sklearn.decomposition` | 차원 축소 관련 알고리즘 지원 (PCA, NMF, Truncated SVD 등)\n",
    "| `sklearn.model_selection` | 교차 검증을 위해 데이터를 학습/테스트용으로 분리, 최적 파라미터를 추출하는 API 제공 (GridSearch 등)\n",
    "| `sklearn.metrics` | 분류, 회귀, 클러스터링, Pairwise에 대한 다양한 성능 측정 방법 제공 (Accuracy, Precision, Recall, ROC-AUC, RMSE 등) |\n",
    "| `sklearn.pipeline` | 특징 처리 등의 변환과 ML 알고리즘 학습, 예측 등을 묶어서 실행할 수 있는 유틸리티 제공 |\n",
    "| `sklearn.linear_model` | 선형 회귀, 릿지(Ridge), 라쏘(Lasso), 로지스틱 회귀 등 회귀 관련 알고리즘과 SGD(Stochastic Gradient Descent) 알고리즘 제공 |\n",
    "| `sklearn.svm` | 서포트 벡터 머신 알고리즘 제공 |\n",
    "| `sklearn.neighbors` | 최근접 이웃 알고리즘 제공 (k-NN 등)\n",
    "| `sklearn.naive_bayes` | 나이브 베이즈 알고리즘 제공 (가우시안 NB, 다항 분포 NB 등) |\n",
    "| `sklearn.tree` | 의사 결정 트리 알고리즘 제공 |\n",
    "| `sklearn.ensemble` | 앙상블 알고리즘 제공 (Random Forest, AdaBoost, GradientBoost 등) |\n",
    "| `sklearn.cluster` | 비지도 클러스터링 알고리즘 제공 (k-Means, 계층형 클러스터링, DBSCAN 등)"
   ]
  },
  {
   "cell_type": "markdown",
   "metadata": {
    "id": "LWdGkNZ2zm8G"
   },
   "source": [
    "### 데이터마이닝 과목에서 다루었던 알고리즘 \n",
    "|구분| 데이터마이닝 알고리즘 | 클래스 | 함수 |\n",
    "|------|------|------|------|\n",
    "|교사(회귀)|`회귀분석`| from sklearn import `linear_model` | `LinearRegression()`  |\n",
    "|교사(회귀)|`의사결정나무`| from sklearn import `tree` | `DecisionTreeRegressor()`|\n",
    "|교사(분류)|`로지스틱회귀분석`| from sklearn import `linear_model`  | `LogisticRegression()`|\n",
    "|교사(분류)|`의사결정나무`| from sklearn import `tree` | `DecisionTreeClassifier()`|\n",
    "|교사(분류)|`K-NN`| from sklearn import `neighbors` | `KNeighborsClassifier()`|\n",
    "|교사(분류)|`SVM` | from sklearn import `svm`| `SVC()`|\n",
    "|비교사|`K-means Clustering`|from sklearn import `cluster` | `KMeans()`|\n",
    "|비교사|`Hierarchical Clustering`|from sklearn import `cluster` | `AgglomerativeClustering()`|\n",
    "|비교사|`PCA`|from sklearn import `decomposition` | `PCA()`|\n",
    "|비교사|`연관성규칙`|------|------|\n"
   ]
  },
  {
   "cell_type": "markdown",
   "metadata": {
    "id": "3lEfpb55skvd"
   },
   "source": [
    "### `Scikit Learn을 이용한 데이터 분석 (Tips dataset)`"
   ]
  },
  {
   "cell_type": "markdown",
   "metadata": {
    "id": "Bxt8A5iQoHbc"
   },
   "source": [
    "### 1. Data 준비\n",
    "\n",
    "\n",
    "> - train_test_split : 일정한 비율로 데이터를 학습데이터와 평가데이터로 분류"
   ]
  },
  {
   "cell_type": "code",
   "execution_count": null,
   "metadata": {
    "id": "26iJrX7uzm8I"
   },
   "outputs": [],
   "source": [
    "# 기본 패키지 불러오기\n",
    "import pandas as pd\n",
    "import numpy as np"
   ]
  },
  {
   "cell_type": "code",
   "execution_count": null,
   "metadata": {
    "colab": {
     "base_uri": "https://localhost:8080/",
     "height": 400
    },
    "id": "sJOYrZc_zm8J",
    "outputId": "b3180dd2-989c-4c56-9bde-2de04aafa3a8"
   },
   "outputs": [
    {
     "ename": "FileNotFoundError",
     "evalue": "ignored",
     "output_type": "error",
     "traceback": [
      "\u001b[0;31m---------------------------------------------------------------------------\u001b[0m",
      "\u001b[0;31mFileNotFoundError\u001b[0m                         Traceback (most recent call last)",
      "\u001b[0;32m<ipython-input-2-546ac157b28e>\u001b[0m in \u001b[0;36m<module>\u001b[0;34m\u001b[0m\n\u001b[1;32m      1\u001b[0m \u001b[0;31m# 데이터 불러오기\u001b[0m\u001b[0;34m\u001b[0m\u001b[0;34m\u001b[0m\u001b[0;34m\u001b[0m\u001b[0m\n\u001b[1;32m      2\u001b[0m \u001b[0;34m\u001b[0m\u001b[0m\n\u001b[0;32m----> 3\u001b[0;31m \u001b[0mtips\u001b[0m \u001b[0;34m=\u001b[0m \u001b[0mpd\u001b[0m\u001b[0;34m.\u001b[0m\u001b[0mread_csv\u001b[0m\u001b[0;34m(\u001b[0m\u001b[0;34m\"tips.csv\"\u001b[0m\u001b[0;34m)\u001b[0m\u001b[0;34m\u001b[0m\u001b[0;34m\u001b[0m\u001b[0m\n\u001b[0m\u001b[1;32m      4\u001b[0m \u001b[0;34m\u001b[0m\u001b[0m\n\u001b[1;32m      5\u001b[0m \u001b[0;31m# 데이터 분할 (X, y)\u001b[0m\u001b[0;34m\u001b[0m\u001b[0;34m\u001b[0m\u001b[0;34m\u001b[0m\u001b[0m\n",
      "\u001b[0;32m/usr/local/lib/python3.8/dist-packages/pandas/util/_decorators.py\u001b[0m in \u001b[0;36mwrapper\u001b[0;34m(*args, **kwargs)\u001b[0m\n\u001b[1;32m    309\u001b[0m                     \u001b[0mstacklevel\u001b[0m\u001b[0;34m=\u001b[0m\u001b[0mstacklevel\u001b[0m\u001b[0;34m,\u001b[0m\u001b[0;34m\u001b[0m\u001b[0;34m\u001b[0m\u001b[0m\n\u001b[1;32m    310\u001b[0m                 )\n\u001b[0;32m--> 311\u001b[0;31m             \u001b[0;32mreturn\u001b[0m \u001b[0mfunc\u001b[0m\u001b[0;34m(\u001b[0m\u001b[0;34m*\u001b[0m\u001b[0margs\u001b[0m\u001b[0;34m,\u001b[0m \u001b[0;34m**\u001b[0m\u001b[0mkwargs\u001b[0m\u001b[0;34m)\u001b[0m\u001b[0;34m\u001b[0m\u001b[0;34m\u001b[0m\u001b[0m\n\u001b[0m\u001b[1;32m    312\u001b[0m \u001b[0;34m\u001b[0m\u001b[0m\n\u001b[1;32m    313\u001b[0m         \u001b[0;32mreturn\u001b[0m \u001b[0mwrapper\u001b[0m\u001b[0;34m\u001b[0m\u001b[0;34m\u001b[0m\u001b[0m\n",
      "\u001b[0;32m/usr/local/lib/python3.8/dist-packages/pandas/io/parsers/readers.py\u001b[0m in \u001b[0;36mread_csv\u001b[0;34m(filepath_or_buffer, sep, delimiter, header, names, index_col, usecols, squeeze, prefix, mangle_dupe_cols, dtype, engine, converters, true_values, false_values, skipinitialspace, skiprows, skipfooter, nrows, na_values, keep_default_na, na_filter, verbose, skip_blank_lines, parse_dates, infer_datetime_format, keep_date_col, date_parser, dayfirst, cache_dates, iterator, chunksize, compression, thousands, decimal, lineterminator, quotechar, quoting, doublequote, escapechar, comment, encoding, encoding_errors, dialect, error_bad_lines, warn_bad_lines, on_bad_lines, delim_whitespace, low_memory, memory_map, float_precision, storage_options)\u001b[0m\n\u001b[1;32m    584\u001b[0m     \u001b[0mkwds\u001b[0m\u001b[0;34m.\u001b[0m\u001b[0mupdate\u001b[0m\u001b[0;34m(\u001b[0m\u001b[0mkwds_defaults\u001b[0m\u001b[0;34m)\u001b[0m\u001b[0;34m\u001b[0m\u001b[0;34m\u001b[0m\u001b[0m\n\u001b[1;32m    585\u001b[0m \u001b[0;34m\u001b[0m\u001b[0m\n\u001b[0;32m--> 586\u001b[0;31m     \u001b[0;32mreturn\u001b[0m \u001b[0m_read\u001b[0m\u001b[0;34m(\u001b[0m\u001b[0mfilepath_or_buffer\u001b[0m\u001b[0;34m,\u001b[0m \u001b[0mkwds\u001b[0m\u001b[0;34m)\u001b[0m\u001b[0;34m\u001b[0m\u001b[0;34m\u001b[0m\u001b[0m\n\u001b[0m\u001b[1;32m    587\u001b[0m \u001b[0;34m\u001b[0m\u001b[0m\n\u001b[1;32m    588\u001b[0m \u001b[0;34m\u001b[0m\u001b[0m\n",
      "\u001b[0;32m/usr/local/lib/python3.8/dist-packages/pandas/io/parsers/readers.py\u001b[0m in \u001b[0;36m_read\u001b[0;34m(filepath_or_buffer, kwds)\u001b[0m\n\u001b[1;32m    480\u001b[0m \u001b[0;34m\u001b[0m\u001b[0m\n\u001b[1;32m    481\u001b[0m     \u001b[0;31m# Create the parser.\u001b[0m\u001b[0;34m\u001b[0m\u001b[0;34m\u001b[0m\u001b[0;34m\u001b[0m\u001b[0m\n\u001b[0;32m--> 482\u001b[0;31m     \u001b[0mparser\u001b[0m \u001b[0;34m=\u001b[0m \u001b[0mTextFileReader\u001b[0m\u001b[0;34m(\u001b[0m\u001b[0mfilepath_or_buffer\u001b[0m\u001b[0;34m,\u001b[0m \u001b[0;34m**\u001b[0m\u001b[0mkwds\u001b[0m\u001b[0;34m)\u001b[0m\u001b[0;34m\u001b[0m\u001b[0;34m\u001b[0m\u001b[0m\n\u001b[0m\u001b[1;32m    483\u001b[0m \u001b[0;34m\u001b[0m\u001b[0m\n\u001b[1;32m    484\u001b[0m     \u001b[0;32mif\u001b[0m \u001b[0mchunksize\u001b[0m \u001b[0;32mor\u001b[0m \u001b[0miterator\u001b[0m\u001b[0;34m:\u001b[0m\u001b[0;34m\u001b[0m\u001b[0;34m\u001b[0m\u001b[0m\n",
      "\u001b[0;32m/usr/local/lib/python3.8/dist-packages/pandas/io/parsers/readers.py\u001b[0m in \u001b[0;36m__init__\u001b[0;34m(self, f, engine, **kwds)\u001b[0m\n\u001b[1;32m    809\u001b[0m             \u001b[0mself\u001b[0m\u001b[0;34m.\u001b[0m\u001b[0moptions\u001b[0m\u001b[0;34m[\u001b[0m\u001b[0;34m\"has_index_names\"\u001b[0m\u001b[0;34m]\u001b[0m \u001b[0;34m=\u001b[0m \u001b[0mkwds\u001b[0m\u001b[0;34m[\u001b[0m\u001b[0;34m\"has_index_names\"\u001b[0m\u001b[0;34m]\u001b[0m\u001b[0;34m\u001b[0m\u001b[0;34m\u001b[0m\u001b[0m\n\u001b[1;32m    810\u001b[0m \u001b[0;34m\u001b[0m\u001b[0m\n\u001b[0;32m--> 811\u001b[0;31m         \u001b[0mself\u001b[0m\u001b[0;34m.\u001b[0m\u001b[0m_engine\u001b[0m \u001b[0;34m=\u001b[0m \u001b[0mself\u001b[0m\u001b[0;34m.\u001b[0m\u001b[0m_make_engine\u001b[0m\u001b[0;34m(\u001b[0m\u001b[0mself\u001b[0m\u001b[0;34m.\u001b[0m\u001b[0mengine\u001b[0m\u001b[0;34m)\u001b[0m\u001b[0;34m\u001b[0m\u001b[0;34m\u001b[0m\u001b[0m\n\u001b[0m\u001b[1;32m    812\u001b[0m \u001b[0;34m\u001b[0m\u001b[0m\n\u001b[1;32m    813\u001b[0m     \u001b[0;32mdef\u001b[0m \u001b[0mclose\u001b[0m\u001b[0;34m(\u001b[0m\u001b[0mself\u001b[0m\u001b[0;34m)\u001b[0m\u001b[0;34m:\u001b[0m\u001b[0;34m\u001b[0m\u001b[0;34m\u001b[0m\u001b[0m\n",
      "\u001b[0;32m/usr/local/lib/python3.8/dist-packages/pandas/io/parsers/readers.py\u001b[0m in \u001b[0;36m_make_engine\u001b[0;34m(self, engine)\u001b[0m\n\u001b[1;32m   1038\u001b[0m             )\n\u001b[1;32m   1039\u001b[0m         \u001b[0;31m# error: Too many arguments for \"ParserBase\"\u001b[0m\u001b[0;34m\u001b[0m\u001b[0;34m\u001b[0m\u001b[0;34m\u001b[0m\u001b[0m\n\u001b[0;32m-> 1040\u001b[0;31m         \u001b[0;32mreturn\u001b[0m \u001b[0mmapping\u001b[0m\u001b[0;34m[\u001b[0m\u001b[0mengine\u001b[0m\u001b[0;34m]\u001b[0m\u001b[0;34m(\u001b[0m\u001b[0mself\u001b[0m\u001b[0;34m.\u001b[0m\u001b[0mf\u001b[0m\u001b[0;34m,\u001b[0m \u001b[0;34m**\u001b[0m\u001b[0mself\u001b[0m\u001b[0;34m.\u001b[0m\u001b[0moptions\u001b[0m\u001b[0;34m)\u001b[0m  \u001b[0;31m# type: ignore[call-arg]\u001b[0m\u001b[0;34m\u001b[0m\u001b[0;34m\u001b[0m\u001b[0m\n\u001b[0m\u001b[1;32m   1041\u001b[0m \u001b[0;34m\u001b[0m\u001b[0m\n\u001b[1;32m   1042\u001b[0m     \u001b[0;32mdef\u001b[0m \u001b[0m_failover_to_python\u001b[0m\u001b[0;34m(\u001b[0m\u001b[0mself\u001b[0m\u001b[0;34m)\u001b[0m\u001b[0;34m:\u001b[0m\u001b[0;34m\u001b[0m\u001b[0;34m\u001b[0m\u001b[0m\n",
      "\u001b[0;32m/usr/local/lib/python3.8/dist-packages/pandas/io/parsers/c_parser_wrapper.py\u001b[0m in \u001b[0;36m__init__\u001b[0;34m(self, src, **kwds)\u001b[0m\n\u001b[1;32m     49\u001b[0m \u001b[0;34m\u001b[0m\u001b[0m\n\u001b[1;32m     50\u001b[0m         \u001b[0;31m# open handles\u001b[0m\u001b[0;34m\u001b[0m\u001b[0;34m\u001b[0m\u001b[0;34m\u001b[0m\u001b[0m\n\u001b[0;32m---> 51\u001b[0;31m         \u001b[0mself\u001b[0m\u001b[0;34m.\u001b[0m\u001b[0m_open_handles\u001b[0m\u001b[0;34m(\u001b[0m\u001b[0msrc\u001b[0m\u001b[0;34m,\u001b[0m \u001b[0mkwds\u001b[0m\u001b[0;34m)\u001b[0m\u001b[0;34m\u001b[0m\u001b[0;34m\u001b[0m\u001b[0m\n\u001b[0m\u001b[1;32m     52\u001b[0m         \u001b[0;32massert\u001b[0m \u001b[0mself\u001b[0m\u001b[0;34m.\u001b[0m\u001b[0mhandles\u001b[0m \u001b[0;32mis\u001b[0m \u001b[0;32mnot\u001b[0m \u001b[0;32mNone\u001b[0m\u001b[0;34m\u001b[0m\u001b[0;34m\u001b[0m\u001b[0m\n\u001b[1;32m     53\u001b[0m \u001b[0;34m\u001b[0m\u001b[0m\n",
      "\u001b[0;32m/usr/local/lib/python3.8/dist-packages/pandas/io/parsers/base_parser.py\u001b[0m in \u001b[0;36m_open_handles\u001b[0;34m(self, src, kwds)\u001b[0m\n\u001b[1;32m    220\u001b[0m         \u001b[0mLet\u001b[0m \u001b[0mthe\u001b[0m \u001b[0mreaders\u001b[0m \u001b[0mopen\u001b[0m \u001b[0mIOHandles\u001b[0m \u001b[0mafter\u001b[0m \u001b[0mthey\u001b[0m \u001b[0mare\u001b[0m \u001b[0mdone\u001b[0m \u001b[0;32mwith\u001b[0m \u001b[0mtheir\u001b[0m \u001b[0mpotential\u001b[0m \u001b[0mraises\u001b[0m\u001b[0;34m.\u001b[0m\u001b[0;34m\u001b[0m\u001b[0;34m\u001b[0m\u001b[0m\n\u001b[1;32m    221\u001b[0m         \"\"\"\n\u001b[0;32m--> 222\u001b[0;31m         self.handles = get_handle(\n\u001b[0m\u001b[1;32m    223\u001b[0m             \u001b[0msrc\u001b[0m\u001b[0;34m,\u001b[0m\u001b[0;34m\u001b[0m\u001b[0;34m\u001b[0m\u001b[0m\n\u001b[1;32m    224\u001b[0m             \u001b[0;34m\"r\"\u001b[0m\u001b[0;34m,\u001b[0m\u001b[0;34m\u001b[0m\u001b[0;34m\u001b[0m\u001b[0m\n",
      "\u001b[0;32m/usr/local/lib/python3.8/dist-packages/pandas/io/common.py\u001b[0m in \u001b[0;36mget_handle\u001b[0;34m(path_or_buf, mode, encoding, compression, memory_map, is_text, errors, storage_options)\u001b[0m\n\u001b[1;32m    700\u001b[0m         \u001b[0;32mif\u001b[0m \u001b[0mioargs\u001b[0m\u001b[0;34m.\u001b[0m\u001b[0mencoding\u001b[0m \u001b[0;32mand\u001b[0m \u001b[0;34m\"b\"\u001b[0m \u001b[0;32mnot\u001b[0m \u001b[0;32min\u001b[0m \u001b[0mioargs\u001b[0m\u001b[0;34m.\u001b[0m\u001b[0mmode\u001b[0m\u001b[0;34m:\u001b[0m\u001b[0;34m\u001b[0m\u001b[0;34m\u001b[0m\u001b[0m\n\u001b[1;32m    701\u001b[0m             \u001b[0;31m# Encoding\u001b[0m\u001b[0;34m\u001b[0m\u001b[0;34m\u001b[0m\u001b[0;34m\u001b[0m\u001b[0m\n\u001b[0;32m--> 702\u001b[0;31m             handle = open(\n\u001b[0m\u001b[1;32m    703\u001b[0m                 \u001b[0mhandle\u001b[0m\u001b[0;34m,\u001b[0m\u001b[0;34m\u001b[0m\u001b[0;34m\u001b[0m\u001b[0m\n\u001b[1;32m    704\u001b[0m                 \u001b[0mioargs\u001b[0m\u001b[0;34m.\u001b[0m\u001b[0mmode\u001b[0m\u001b[0;34m,\u001b[0m\u001b[0;34m\u001b[0m\u001b[0;34m\u001b[0m\u001b[0m\n",
      "\u001b[0;31mFileNotFoundError\u001b[0m: [Errno 2] No such file or directory: 'tips.csv'"
     ]
    }
   ],
   "source": [
    "# 데이터 불러오기\n",
    "\n",
    "tips = pd.read_csv(\"tips.csv\")\n",
    "\n",
    "# 데이터 분할 (X, y)\n",
    "display(tips.head())\n",
    "\n",
    "# 데이터 분할 (X, y)\n",
    "X = tips.drop(['tip'], axis=1)\n",
    "y = tips['tip']\n",
    "print(X.shape)\n",
    "print(y.shape)\n",
    "\n",
    "display(X.head())\n",
    "display(y.head())"
   ]
  },
  {
   "cell_type": "markdown",
   "metadata": {
    "id": "6sUX-7rfzm8L"
   },
   "source": [
    "### 2. 데이터 분할"
   ]
  },
  {
   "cell_type": "markdown",
   "metadata": {
    "id": "_yMJ2ijMzm8L"
   },
   "source": [
    "- train_test_split() 함수를 이용하여 학습데이터와 평가데이터로 분할할 수 있음\n",
    "- stratify 옵션을 이용하면 범주별 개수를 고려하여 학습데이터와 평가데이터로 분할할 수 있음\n",
    "- y가 범주형일 때, 아래 코드를 수행하면 train/test 데이터에서 y 범주의 비율을 동일하게 할당할 수 있음\n",
    "> X_train, X_test, y_train, y_test = train_test_split(\n",
    "   X, y, test_size = 0.3, random_state = 1, shuffle=True, `stratify = y`\n",
    ")"
   ]
  },
  {
   "cell_type": "code",
   "execution_count": null,
   "metadata": {
    "id": "E5mkr0p7zm8M"
   },
   "outputs": [],
   "source": [
    "# 데이터 분할 (학습데이터, 평가데이터)\n",
    "\n",
    "from sklearn.model_selection import train_test_split\n",
    "\n",
    "X_train, X_test, y_train, y_test = train_test_split(\n",
    "   X, y, test_size = 0.3, random_state = 1, shuffle=True, stratify = X[\"size\"]\n",
    ")\n",
    "print(X.shape)\n",
    "print(X_train.describe())\n",
    "print(X_test.describe())"
   ]
  },
  {
   "cell_type": "markdown",
   "metadata": {
    "id": "Ct9fa3T_s6nV"
   },
   "source": [
    "### 3. 데이터 전처리 (결측치 처리 및 정규화)"
   ]
  },
  {
   "cell_type": "markdown",
   "metadata": {
    "id": "mJhqKdVbzm8M"
   },
   "source": [
    "> * 변수들을 `수치형 변수`와 `범주형 변수`로 분리하여 전처리 수행\n",
    "> * Scikit Learn 대부분 함수의 기본 적용형식은 다음의 순서를 따름\n",
    "> 1. `fit` : 학습\n",
    "> 2. `transform` : 적용\n",
    "> 3. `fit`과 `tranform`을 동시에 `fit_transform` 을 사용하기도 함 : 학습과 적용을 동시에 \n",
    ">> 일반적으로 `fit`과 `tranform`을 같은 데이터에 적용하려는 경우,  `fit_transform` 을 사용함"
   ]
  },
  {
   "cell_type": "code",
   "execution_count": null,
   "metadata": {
    "id": "h_6I1fv0zm8N",
    "outputId": "e64a86f2-486c-4325-c312-ec6659fc07ee"
   },
   "outputs": [
    {
     "data": {
      "text/html": [
       "<div>\n",
       "<style scoped>\n",
       "    .dataframe tbody tr th:only-of-type {\n",
       "        vertical-align: middle;\n",
       "    }\n",
       "\n",
       "    .dataframe tbody tr th {\n",
       "        vertical-align: top;\n",
       "    }\n",
       "\n",
       "    .dataframe thead th {\n",
       "        text-align: right;\n",
       "    }\n",
       "</style>\n",
       "<table border=\"1\" class=\"dataframe\">\n",
       "  <thead>\n",
       "    <tr style=\"text-align: right;\">\n",
       "      <th></th>\n",
       "      <th>total_bill</th>\n",
       "      <th>size</th>\n",
       "    </tr>\n",
       "  </thead>\n",
       "  <tbody>\n",
       "    <tr>\n",
       "      <th>85</th>\n",
       "      <td>34.83</td>\n",
       "      <td>4</td>\n",
       "    </tr>\n",
       "    <tr>\n",
       "      <th>182</th>\n",
       "      <td>45.35</td>\n",
       "      <td>3</td>\n",
       "    </tr>\n",
       "    <tr>\n",
       "      <th>113</th>\n",
       "      <td>23.95</td>\n",
       "      <td>2</td>\n",
       "    </tr>\n",
       "    <tr>\n",
       "      <th>105</th>\n",
       "      <td>15.36</td>\n",
       "      <td>2</td>\n",
       "    </tr>\n",
       "    <tr>\n",
       "      <th>83</th>\n",
       "      <td>32.68</td>\n",
       "      <td>2</td>\n",
       "    </tr>\n",
       "    <tr>\n",
       "      <th>...</th>\n",
       "      <td>...</td>\n",
       "      <td>...</td>\n",
       "    </tr>\n",
       "    <tr>\n",
       "      <th>79</th>\n",
       "      <td>17.29</td>\n",
       "      <td>2</td>\n",
       "    </tr>\n",
       "    <tr>\n",
       "      <th>91</th>\n",
       "      <td>22.49</td>\n",
       "      <td>2</td>\n",
       "    </tr>\n",
       "    <tr>\n",
       "      <th>223</th>\n",
       "      <td>15.98</td>\n",
       "      <td>3</td>\n",
       "    </tr>\n",
       "    <tr>\n",
       "      <th>142</th>\n",
       "      <td>41.19</td>\n",
       "      <td>5</td>\n",
       "    </tr>\n",
       "    <tr>\n",
       "      <th>127</th>\n",
       "      <td>14.52</td>\n",
       "      <td>2</td>\n",
       "    </tr>\n",
       "  </tbody>\n",
       "</table>\n",
       "<p>170 rows × 2 columns</p>\n",
       "</div>"
      ],
      "text/plain": [
       "     total_bill  size\n",
       "85        34.83     4\n",
       "182       45.35     3\n",
       "113       23.95     2\n",
       "105       15.36     2\n",
       "83        32.68     2\n",
       "..          ...   ...\n",
       "79        17.29     2\n",
       "91        22.49     2\n",
       "223       15.98     3\n",
       "142       41.19     5\n",
       "127       14.52     2\n",
       "\n",
       "[170 rows x 2 columns]"
      ]
     },
     "metadata": {},
     "output_type": "display_data"
    },
    {
     "data": {
      "text/html": [
       "<div>\n",
       "<style scoped>\n",
       "    .dataframe tbody tr th:only-of-type {\n",
       "        vertical-align: middle;\n",
       "    }\n",
       "\n",
       "    .dataframe tbody tr th {\n",
       "        vertical-align: top;\n",
       "    }\n",
       "\n",
       "    .dataframe thead th {\n",
       "        text-align: right;\n",
       "    }\n",
       "</style>\n",
       "<table border=\"1\" class=\"dataframe\">\n",
       "  <thead>\n",
       "    <tr style=\"text-align: right;\">\n",
       "      <th></th>\n",
       "      <th>sex</th>\n",
       "      <th>smoker</th>\n",
       "      <th>day</th>\n",
       "      <th>time</th>\n",
       "    </tr>\n",
       "  </thead>\n",
       "  <tbody>\n",
       "    <tr>\n",
       "      <th>85</th>\n",
       "      <td>Female</td>\n",
       "      <td>No</td>\n",
       "      <td>Thur</td>\n",
       "      <td>Lunch</td>\n",
       "    </tr>\n",
       "    <tr>\n",
       "      <th>182</th>\n",
       "      <td>Male</td>\n",
       "      <td>Yes</td>\n",
       "      <td>Sun</td>\n",
       "      <td>Dinner</td>\n",
       "    </tr>\n",
       "    <tr>\n",
       "      <th>113</th>\n",
       "      <td>Male</td>\n",
       "      <td>No</td>\n",
       "      <td>Sun</td>\n",
       "      <td>Dinner</td>\n",
       "    </tr>\n",
       "    <tr>\n",
       "      <th>105</th>\n",
       "      <td>Male</td>\n",
       "      <td>Yes</td>\n",
       "      <td>Sat</td>\n",
       "      <td>Dinner</td>\n",
       "    </tr>\n",
       "    <tr>\n",
       "      <th>83</th>\n",
       "      <td>Male</td>\n",
       "      <td>Yes</td>\n",
       "      <td>Thur</td>\n",
       "      <td>Lunch</td>\n",
       "    </tr>\n",
       "    <tr>\n",
       "      <th>...</th>\n",
       "      <td>...</td>\n",
       "      <td>...</td>\n",
       "      <td>...</td>\n",
       "      <td>...</td>\n",
       "    </tr>\n",
       "    <tr>\n",
       "      <th>79</th>\n",
       "      <td>Male</td>\n",
       "      <td>No</td>\n",
       "      <td>Thur</td>\n",
       "      <td>Lunch</td>\n",
       "    </tr>\n",
       "    <tr>\n",
       "      <th>91</th>\n",
       "      <td>Male</td>\n",
       "      <td>No</td>\n",
       "      <td>Fri</td>\n",
       "      <td>Dinner</td>\n",
       "    </tr>\n",
       "    <tr>\n",
       "      <th>223</th>\n",
       "      <td>Female</td>\n",
       "      <td>No</td>\n",
       "      <td>Fri</td>\n",
       "      <td>Lunch</td>\n",
       "    </tr>\n",
       "    <tr>\n",
       "      <th>142</th>\n",
       "      <td>Male</td>\n",
       "      <td>No</td>\n",
       "      <td>Thur</td>\n",
       "      <td>Lunch</td>\n",
       "    </tr>\n",
       "    <tr>\n",
       "      <th>127</th>\n",
       "      <td>Female</td>\n",
       "      <td>No</td>\n",
       "      <td>Thur</td>\n",
       "      <td>Lunch</td>\n",
       "    </tr>\n",
       "  </tbody>\n",
       "</table>\n",
       "<p>170 rows × 4 columns</p>\n",
       "</div>"
      ],
      "text/plain": [
       "        sex smoker   day    time\n",
       "85   Female     No  Thur   Lunch\n",
       "182    Male    Yes   Sun  Dinner\n",
       "113    Male     No   Sun  Dinner\n",
       "105    Male    Yes   Sat  Dinner\n",
       "83     Male    Yes  Thur   Lunch\n",
       "..      ...    ...   ...     ...\n",
       "79     Male     No  Thur   Lunch\n",
       "91     Male     No   Fri  Dinner\n",
       "223  Female     No   Fri   Lunch\n",
       "142    Male     No  Thur   Lunch\n",
       "127  Female     No  Thur   Lunch\n",
       "\n",
       "[170 rows x 4 columns]"
      ]
     },
     "metadata": {},
     "output_type": "display_data"
    }
   ],
   "source": [
    "# # 직접 지정\n",
    "X_train_num = X_train[[\"total_bill\", \"size\"]]\n",
    "X_train_cat = X_train.drop([\"total_bill\", \"size\"], axis=1)\n",
    "display(X_train_num)\n",
    "display(X_train_cat)\n",
    "\n",
    "# # 다른 방법\n",
    "# X_train_num = X_train.select_dtypes(include=[np.number])\n",
    "# X_train_cat = X_train.select_dtypes(exclude=[np.number])\n",
    "# display(X_train_num)\n",
    "# display(X_train_cat)"
   ]
  },
  {
   "cell_type": "markdown",
   "metadata": {
    "id": "ciPMcnzzzkDY"
   },
   "source": [
    "#### 3.1. 수치형 변수 전처리\n",
    "> * 수치형 변수 전처리 : `결측치 처리`와 `정규화(표준화)` \n",
    "> + 결측치 처리 : SimpleImputer 함수를 이용하여 쉽게 결측치 처리 수행가능\n",
    "> + 정규화(표준화) : `min-max 정규화(normlization)` 과 `표준화(standardization)`\n",
    "\n",
    ">> + 정규화 방법\n",
    "\n",
    "\\begin{equation}\n",
    "x_i^{'} = \\frac{x_i-min(x)}{max(x)-min(x)}\n",
    "\\end{equation}\n",
    ">> + 표준화 방법\n",
    "\n",
    "\\begin{equation}\n",
    "x_i^{'} = \\frac{x_i-mean(x)}{stdev(x)}\n",
    "\\end{equation}\n",
    "\n",
    "\n"
   ]
  },
  {
   "cell_type": "code",
   "execution_count": null,
   "metadata": {
    "id": "OJ0dl_kOzm8N",
    "outputId": "a635b3c6-c32e-4870-aa6c-124ded6a3e73"
   },
   "outputs": [
    {
     "name": "stdout",
     "output_type": "stream",
     "text": [
      "[[34.83  4.  ]\n",
      " [45.35  3.  ]\n",
      " [23.95  2.  ]\n",
      " [15.36  2.  ]\n",
      " [32.68  2.  ]\n",
      " [28.15  5.  ]\n",
      " [16.04  3.  ]\n",
      " [15.77  2.  ]\n",
      " [28.97  2.  ]\n",
      " [30.4   4.  ]\n",
      " [12.48  2.  ]\n",
      " [11.69  2.  ]\n",
      " [15.42  2.  ]\n",
      " [24.59  4.  ]\n",
      " [ 9.94  2.  ]\n",
      " [16.    2.  ]\n",
      " [12.69  2.  ]\n",
      " [20.9   3.  ]\n",
      " [11.02  2.  ]\n",
      " [15.38  2.  ]\n",
      " [16.45  2.  ]\n",
      " [10.09  2.  ]\n",
      " [27.28  2.  ]\n",
      " [19.65  2.  ]\n",
      " [ 7.74  2.  ]\n",
      " [13.27  2.  ]\n",
      " [10.65  2.  ]\n",
      " [34.3   6.  ]\n",
      " [10.51  2.  ]\n",
      " [16.21  3.  ]\n",
      " [34.65  4.  ]\n",
      " [10.33  2.  ]\n",
      " [22.42  2.  ]\n",
      " [15.01  2.  ]\n",
      " [19.82  2.  ]\n",
      " [16.58  2.  ]\n",
      " [16.97  3.  ]\n",
      " [40.55  2.  ]\n",
      " [ 8.77  2.  ]\n",
      " [26.59  3.  ]\n",
      " [13.42  2.  ]\n",
      " [13.39  2.  ]\n",
      " [27.2   4.  ]\n",
      " [20.08  3.  ]\n",
      " [18.43  4.  ]\n",
      " [18.28  2.  ]\n",
      " [18.35  4.  ]\n",
      " [14.78  2.  ]\n",
      " [20.45  4.  ]\n",
      " [34.63  2.  ]\n",
      " [ 8.51  2.  ]\n",
      " [25.21  2.  ]\n",
      " [29.85  5.  ]\n",
      " [12.74  2.  ]\n",
      " [23.33  2.  ]\n",
      " [12.26  2.  ]\n",
      " [ 7.56  2.  ]\n",
      " [26.86  2.  ]\n",
      " [11.24  2.  ]\n",
      " [17.78  2.  ]\n",
      " [17.92  2.  ]\n",
      " [10.29  2.  ]\n",
      " [17.82  2.  ]\n",
      " [17.51  2.  ]\n",
      " [28.55  3.  ]\n",
      " [ 3.07  1.  ]\n",
      " [31.85  2.  ]\n",
      " [ 7.25  2.  ]\n",
      " [14.48  2.  ]\n",
      " [12.02  2.  ]\n",
      " [48.27  4.  ]\n",
      " [19.08  2.  ]\n",
      " [25.28  2.  ]\n",
      " [13.37  2.  ]\n",
      " [13.81  2.  ]\n",
      " [18.29  4.  ]\n",
      " [28.17  3.  ]\n",
      " [20.23  2.  ]\n",
      " [39.42  4.  ]\n",
      " [22.67  2.  ]\n",
      " [13.    2.  ]\n",
      " [18.26  2.  ]\n",
      " [16.93  3.  ]\n",
      " [14.15  2.  ]\n",
      " [16.49  4.  ]\n",
      " [12.46  2.  ]\n",
      " [16.47  3.  ]\n",
      " [16.29  3.  ]\n",
      " [25.56  4.  ]\n",
      " [19.49  2.  ]\n",
      " [12.66  2.  ]\n",
      " [22.82  3.  ]\n",
      " [20.53  4.  ]\n",
      " [22.12  2.  ]\n",
      " [17.31  2.  ]\n",
      " [11.87  2.  ]\n",
      " [48.17  6.  ]\n",
      " [19.44  2.  ]\n",
      " [ 7.25  1.  ]\n",
      " [15.53  2.  ]\n",
      " [11.38  2.  ]\n",
      " [20.29  2.  ]\n",
      " [ 9.6   2.  ]\n",
      " [28.44  2.  ]\n",
      " [21.7   2.  ]\n",
      " [13.42  2.  ]\n",
      " [15.69  3.  ]\n",
      " [24.52  3.  ]\n",
      " [10.34  2.  ]\n",
      " [18.29  2.  ]\n",
      " [32.83  2.  ]\n",
      " [23.1   3.  ]\n",
      " [38.73  4.  ]\n",
      " [25.71  3.  ]\n",
      " [16.4   2.  ]\n",
      " [16.66  2.  ]\n",
      " [38.01  4.  ]\n",
      " [38.07  3.  ]\n",
      " [17.81  4.  ]\n",
      " [10.27  2.  ]\n",
      " [15.06  2.  ]\n",
      " [18.71  3.  ]\n",
      " [ 8.35  2.  ]\n",
      " [16.99  2.  ]\n",
      " [27.05  6.  ]\n",
      " [20.29  2.  ]\n",
      " [ 7.51  2.  ]\n",
      " [22.75  2.  ]\n",
      " [19.77  4.  ]\n",
      " [21.01  3.  ]\n",
      " [12.9   2.  ]\n",
      " [24.01  4.  ]\n",
      " [19.81  2.  ]\n",
      " [ 9.55  2.  ]\n",
      " [17.47  2.  ]\n",
      " [35.83  3.  ]\n",
      " [10.34  3.  ]\n",
      " [10.59  2.  ]\n",
      " [13.16  2.  ]\n",
      " [35.26  4.  ]\n",
      " [31.27  3.  ]\n",
      " [34.81  4.  ]\n",
      " [ 8.52  2.  ]\n",
      " [21.16  2.  ]\n",
      " [30.06  3.  ]\n",
      " [22.76  2.  ]\n",
      " [20.92  2.  ]\n",
      " [13.81  2.  ]\n",
      " [ 9.78  2.  ]\n",
      " [10.07  1.  ]\n",
      " [11.17  2.  ]\n",
      " [15.81  2.  ]\n",
      " [32.9   2.  ]\n",
      " [11.61  2.  ]\n",
      " [13.13  2.  ]\n",
      " [25.29  4.  ]\n",
      " [30.14  4.  ]\n",
      " [13.42  2.  ]\n",
      " [10.77  2.  ]\n",
      " [24.55  4.  ]\n",
      " [21.5   4.  ]\n",
      " [ 5.75  2.  ]\n",
      " [31.71  4.  ]\n",
      " [20.76  2.  ]\n",
      " [44.3   3.  ]\n",
      " [17.29  2.  ]\n",
      " [22.49  2.  ]\n",
      " [15.98  3.  ]\n",
      " [41.19  5.  ]\n",
      " [14.52  2.  ]]\n"
     ]
    }
   ],
   "source": [
    "from sklearn.impute import SimpleImputer\n",
    "\n",
    "imputer = SimpleImputer(strategy=\"median\") #mean, median, constant(fill_value와 함께)\n",
    "                                            # strategy=\"constant\", fill_value = 0\n",
    "# imputer.fit(X_train_num) # medain 값을 계산하는 과정\n",
    "# X_train_num_imputed = imputer.transform(X_train_num)\n",
    "\n",
    "X_train_num_imputed = imputer.fit_transform(X_train_num) #fit, transform을 동시에 하겠다\n",
    "print(X_train_num_imputed)"
   ]
  },
  {
   "cell_type": "code",
   "execution_count": null,
   "metadata": {
    "id": "t7OWKXAbz7nd"
   },
   "outputs": [],
   "source": [
    "from sklearn.preprocessing import MinMaxScaler\n",
    "\n",
    "scaler = MinMaxScaler()\n",
    "scaler.fit(X_train_num)\n",
    "X_train_num_scaled = scaler.transform(X_train_num)\n",
    "\n",
    "# X_num_scaled = scaler.fit_transform(X_num)"
   ]
  },
  {
   "cell_type": "code",
   "execution_count": null,
   "metadata": {
    "id": "KYDjfXEf0Fqt"
   },
   "outputs": [],
   "source": [
    "from sklearn.preprocessing import StandardScaler\n",
    "\n",
    "scaler = StandardScaler()\n",
    "scaler.fit(X_train_num)\n",
    "X_train_num_scaled = scaler.transform(X_train_num)\n",
    "\n",
    "# X_tips_num_scaled = scaler.fit_transform(X_tips_num)"
   ]
  },
  {
   "cell_type": "markdown",
   "metadata": {
    "id": "H2URAuPSzm8O"
   },
   "source": [
    "#### 3.2. 범주형 변수 전처리\n",
    "> * 범주형 변수 전처리 : `결측치 처리`와 `범주형 데이터 처리`\n",
    "> * 범주형 데이터 처리 방법 : `OrdinalEncoder`과 `OneHotEncoder`\n",
    ">> *  `OrdinalEncoder`는 학점과 같이 순서가 있는 범주값을 정수로 변환합니다.  \n",
    ">> * `OneHotEncoder`는 성별과 같이 순서가 없는 범주값을 더미변수로 변환하고 기본적으로 희소행렬을 반환합니다. \n",
    ">>> * 희소행렬은 0이 아닌 값이 존재하는 셀만을 표현한 행렬 \n",
    ">>> * 희소행렬을 생성하지 않기 위해 sparse=False로 지정할 수 있습니다:"
   ]
  },
  {
   "cell_type": "code",
   "execution_count": null,
   "metadata": {
    "id": "POjhItu3zm8O",
    "outputId": "dfc11152-2a4b-43a5-830a-8ef59964a7a4",
    "scrolled": true
   },
   "outputs": [
    {
     "name": "stdout",
     "output_type": "stream",
     "text": [
      "[['Female' 'No' 'Thur' 'Lunch']\n",
      " ['Male' 'Yes' 'Sun' 'Dinner']\n",
      " ['Male' 'No' 'Sun' 'Dinner']\n",
      " ['Male' 'Yes' 'Sat' 'Dinner']\n",
      " ['Male' 'Yes' 'Thur' 'Lunch']\n",
      " ['Male' 'Yes' 'Sat' 'Dinner']\n",
      " ['Male' 'No' 'Sat' 'Dinner']\n",
      " ['Female' 'No' 'Sat' 'Dinner']\n",
      " ['Male' 'Yes' 'Fri' 'Dinner']\n",
      " ['Male' 'No' 'Sun' 'Dinner']\n",
      " ['Female' 'No' 'Thur' 'Lunch']\n",
      " ['Male' 'No' 'Thur' 'Lunch']\n",
      " ['Male' 'No' 'Sun' 'Dinner']\n",
      " ['Female' 'No' 'Sun' 'Dinner']\n",
      " ['Male' 'No' 'Sun' 'Dinner']\n",
      " ['Male' 'Yes' 'Thur' 'Lunch']\n",
      " ['Male' 'No' 'Sat' 'Dinner']\n",
      " ['Female' 'Yes' 'Sun' 'Dinner']\n",
      " ['Male' 'Yes' 'Sat' 'Dinner']\n",
      " ['Female' 'Yes' 'Fri' 'Dinner']\n",
      " ['Female' 'No' 'Sat' 'Dinner']\n",
      " ['Female' 'Yes' 'Fri' 'Lunch']\n",
      " ['Male' 'Yes' 'Fri' 'Dinner']\n",
      " ['Female' 'No' 'Sat' 'Dinner']\n",
      " ['Male' 'Yes' 'Sat' 'Dinner']\n",
      " ['Female' 'Yes' 'Sat' 'Dinner']\n",
      " ['Female' 'No' 'Thur' 'Lunch']\n",
      " ['Male' 'No' 'Thur' 'Lunch']\n",
      " ['Male' 'No' 'Sat' 'Dinner']\n",
      " ['Female' 'No' 'Sun' 'Dinner']\n",
      " ['Male' 'Yes' 'Sun' 'Dinner']\n",
      " ['Female' 'No' 'Thur' 'Lunch']\n",
      " ['Female' 'Yes' 'Sat' 'Dinner']\n",
      " ['Male' 'Yes' 'Sat' 'Dinner']\n",
      " ['Male' 'No' 'Sat' 'Dinner']\n",
      " ['Male' 'Yes' 'Thur' 'Lunch']\n",
      " ['Female' 'No' 'Sun' 'Dinner']\n",
      " ['Male' 'Yes' 'Sun' 'Dinner']\n",
      " ['Male' 'No' 'Sun' 'Dinner']\n",
      " ['Male' 'Yes' 'Sat' 'Dinner']\n",
      " ['Female' 'No' 'Thur' 'Lunch']\n",
      " ['Female' 'No' 'Sun' 'Dinner']\n",
      " ['Male' 'No' 'Thur' 'Lunch']\n",
      " ['Male' 'No' 'Sat' 'Dinner']\n",
      " ['Male' 'No' 'Sun' 'Dinner']\n",
      " ['Male' 'No' 'Thur' 'Lunch']\n",
      " ['Male' 'No' 'Sat' 'Dinner']\n",
      " ['Male' 'No' 'Sun' 'Dinner']\n",
      " ['Male' 'No' 'Sat' 'Dinner']\n",
      " ['Male' 'Yes' 'Sun' 'Dinner']\n",
      " ['Female' 'No' 'Thur' 'Lunch']\n",
      " ['Male' 'Yes' 'Sat' 'Dinner']\n",
      " ['Female' 'No' 'Sun' 'Dinner']\n",
      " ['Female' 'Yes' 'Thur' 'Lunch']\n",
      " ['Male' 'Yes' 'Sun' 'Dinner']\n",
      " ['Female' 'No' 'Thur' 'Lunch']\n",
      " ['Male' 'No' 'Thur' 'Lunch']\n",
      " ['Female' 'Yes' 'Sat' 'Dinner']\n",
      " ['Male' 'Yes' 'Sat' 'Dinner']\n",
      " ['Male' 'No' 'Sat' 'Dinner']\n",
      " ['Male' 'No' 'Sat' 'Dinner']\n",
      " ['Female' 'No' 'Sun' 'Dinner']\n",
      " ['Male' 'No' 'Sat' 'Dinner']\n",
      " ['Female' 'Yes' 'Sun' 'Dinner']\n",
      " ['Male' 'No' 'Sun' 'Dinner']\n",
      " ['Female' 'Yes' 'Sat' 'Dinner']\n",
      " ['Male' 'Yes' 'Sun' 'Dinner']\n",
      " ['Male' 'Yes' 'Sun' 'Dinner']\n",
      " ['Male' 'Yes' 'Sun' 'Dinner']\n",
      " ['Male' 'No' 'Sat' 'Dinner']\n",
      " ['Male' 'No' 'Sat' 'Dinner']\n",
      " ['Male' 'No' 'Thur' 'Lunch']\n",
      " ['Female' 'Yes' 'Sat' 'Dinner']\n",
      " ['Male' 'No' 'Sat' 'Dinner']\n",
      " ['Male' 'Yes' 'Sat' 'Dinner']\n",
      " ['Male' 'Yes' 'Sat' 'Dinner']\n",
      " ['Female' 'Yes' 'Sat' 'Dinner']\n",
      " ['Male' 'No' 'Sat' 'Dinner']\n",
      " ['Male' 'No' 'Sat' 'Dinner']\n",
      " ['Male' 'Yes' 'Sat' 'Dinner']\n",
      " ['Female' 'Yes' 'Thur' 'Lunch']\n",
      " ['Female' 'No' 'Thur' 'Lunch']\n",
      " ['Female' 'No' 'Sat' 'Dinner']\n",
      " ['Female' 'No' 'Thur' 'Lunch']\n",
      " ['Male' 'No' 'Sun' 'Dinner']\n",
      " ['Male' 'No' 'Fri' 'Dinner']\n",
      " ['Female' 'Yes' 'Thur' 'Lunch']\n",
      " ['Male' 'No' 'Sun' 'Dinner']\n",
      " ['Male' 'No' 'Sun' 'Dinner']\n",
      " ['Male' 'No' 'Sun' 'Dinner']\n",
      " ['Male' 'No' 'Sun' 'Dinner']\n",
      " ['Male' 'No' 'Thur' 'Lunch']\n",
      " ['Male' 'Yes' 'Thur' 'Lunch']\n",
      " ['Female' 'Yes' 'Sat' 'Dinner']\n",
      " ['Female' 'No' 'Sun' 'Dinner']\n",
      " ['Female' 'No' 'Thur' 'Lunch']\n",
      " ['Male' 'No' 'Sun' 'Dinner']\n",
      " ['Male' 'Yes' 'Thur' 'Lunch']\n",
      " ['Female' 'No' 'Sat' 'Dinner']\n",
      " ['Male' 'Yes' 'Sat' 'Dinner']\n",
      " ['Female' 'No' 'Thur' 'Lunch']\n",
      " ['Female' 'No' 'Sat' 'Dinner']\n",
      " ['Female' 'Yes' 'Sun' 'Dinner']\n",
      " ['Male' 'Yes' 'Thur' 'Lunch']\n",
      " ['Male' 'No' 'Sat' 'Dinner']\n",
      " ['Female' 'Yes' 'Fri' 'Lunch']\n",
      " ['Male' 'Yes' 'Sat' 'Dinner']\n",
      " ['Male' 'No' 'Sun' 'Dinner']\n",
      " ['Male' 'Yes' 'Thur' 'Lunch']\n",
      " ['Male' 'No' 'Sun' 'Dinner']\n",
      " ['Male' 'Yes' 'Sat' 'Dinner']\n",
      " ['Male' 'Yes' 'Sun' 'Dinner']\n",
      " ['Male' 'Yes' 'Sat' 'Dinner']\n",
      " ['Female' 'No' 'Sun' 'Dinner']\n",
      " ['Female' 'Yes' 'Thur' 'Lunch']\n",
      " ['Male' 'No' 'Thur' 'Lunch']\n",
      " ['Male' 'Yes' 'Sat' 'Dinner']\n",
      " ['Male' 'No' 'Sun' 'Dinner']\n",
      " ['Male' 'No' 'Sat' 'Dinner']\n",
      " ['Male' 'No' 'Sun' 'Dinner']\n",
      " ['Female' 'No' 'Sat' 'Dinner']\n",
      " ['Male' 'Yes' 'Thur' 'Lunch']\n",
      " ['Female' 'No' 'Thur' 'Lunch']\n",
      " ['Female' 'No' 'Sun' 'Dinner']\n",
      " ['Female' 'No' 'Thur' 'Lunch']\n",
      " ['Male' 'Yes' 'Sat' 'Dinner']\n",
      " ['Male' 'No' 'Thur' 'Lunch']\n",
      " ['Female' 'No' 'Fri' 'Dinner']\n",
      " ['Male' 'No' 'Sun' 'Dinner']\n",
      " ['Male' 'No' 'Sun' 'Dinner']\n",
      " ['Female' 'Yes' 'Sat' 'Dinner']\n",
      " ['Male' 'Yes' 'Sat' 'Dinner']\n",
      " ['Female' 'Yes' 'Thur' 'Lunch']\n",
      " ['Male' 'No' 'Sat' 'Dinner']\n",
      " ['Female' 'No' 'Thur' 'Lunch']\n",
      " ['Female' 'No' 'Sat' 'Dinner']\n",
      " ['Male' 'No' 'Sun' 'Dinner']\n",
      " ['Female' 'Yes' 'Sat' 'Dinner']\n",
      " ['Female' 'No' 'Thur' 'Lunch']\n",
      " ['Female' 'No' 'Sun' 'Dinner']\n",
      " ['Male' 'No' 'Sat' 'Dinner']\n",
      " ['Female' 'No' 'Sun' 'Dinner']\n",
      " ['Male' 'No' 'Thur' 'Lunch']\n",
      " ['Male' 'No' 'Thur' 'Lunch']\n",
      " ['Male' 'Yes' 'Sat' 'Dinner']\n",
      " ['Male' 'No' 'Thur' 'Lunch']\n",
      " ['Female' 'No' 'Sat' 'Dinner']\n",
      " ['Male' 'No' 'Sun' 'Dinner']\n",
      " ['Male' 'No' 'Thur' 'Lunch']\n",
      " ['Female' 'No' 'Thur' 'Lunch']\n",
      " ['Female' 'No' 'Thur' 'Lunch']\n",
      " ['Male' 'Yes' 'Sat' 'Dinner']\n",
      " ['Male' 'Yes' 'Sun' 'Dinner']\n",
      " ['Male' 'No' 'Sat' 'Dinner']\n",
      " ['Male' 'No' 'Sun' 'Dinner']\n",
      " ['Male' 'No' 'Sun' 'Dinner']\n",
      " ['Female' 'Yes' 'Sat' 'Dinner']\n",
      " ['Male' 'Yes' 'Fri' 'Lunch']\n",
      " ['Male' 'No' 'Sat' 'Dinner']\n",
      " ['Male' 'No' 'Sun' 'Dinner']\n",
      " ['Male' 'No' 'Sun' 'Dinner']\n",
      " ['Female' 'Yes' 'Fri' 'Dinner']\n",
      " ['Male' 'No' 'Sun' 'Dinner']\n",
      " ['Male' 'No' 'Sun' 'Dinner']\n",
      " ['Female' 'Yes' 'Sat' 'Dinner']\n",
      " ['Male' 'No' 'Thur' 'Lunch']\n",
      " ['Male' 'No' 'Fri' 'Dinner']\n",
      " ['Female' 'No' 'Fri' 'Lunch']\n",
      " ['Male' 'No' 'Thur' 'Lunch']\n",
      " ['Female' 'No' 'Thur' 'Lunch']]\n"
     ]
    }
   ],
   "source": [
    "from sklearn.impute import SimpleImputer\n",
    "\n",
    "imputer_cat = SimpleImputer(strategy=\"most_frequent\")  #most_frequent, constant(fill_value와 함께)\n",
    "imputer_cat.fit(X_train_cat)\n",
    "X_train_cat_imputed = imputer_cat.transform(X_train_cat)\n",
    "\n",
    "# X_train_cat_imputed = imputer.fit_transform(X_train_cat)\n",
    "print(X_train_cat_imputed)"
   ]
  },
  {
   "cell_type": "code",
   "execution_count": null,
   "metadata": {
    "id": "Vw8MU5Ug0JDl",
    "outputId": "bd05ad3f-01f4-4a70-a324-b3e8163d4f21"
   },
   "outputs": [
    {
     "data": {
      "text/plain": [
       "array([[0., 0., 3., 1.],\n",
       "       [1., 1., 2., 0.],\n",
       "       [1., 0., 2., 0.],\n",
       "       [1., 1., 1., 0.],\n",
       "       [1., 1., 3., 1.],\n",
       "       [1., 1., 1., 0.],\n",
       "       [1., 0., 1., 0.],\n",
       "       [0., 0., 1., 0.],\n",
       "       [1., 1., 0., 0.],\n",
       "       [1., 0., 2., 0.],\n",
       "       [0., 0., 3., 1.],\n",
       "       [1., 0., 3., 1.],\n",
       "       [1., 0., 2., 0.],\n",
       "       [0., 0., 2., 0.],\n",
       "       [1., 0., 2., 0.],\n",
       "       [1., 1., 3., 1.],\n",
       "       [1., 0., 1., 0.],\n",
       "       [0., 1., 2., 0.],\n",
       "       [1., 1., 1., 0.],\n",
       "       [0., 1., 0., 0.],\n",
       "       [0., 0., 1., 0.],\n",
       "       [0., 1., 0., 1.],\n",
       "       [1., 1., 0., 0.],\n",
       "       [0., 0., 1., 0.],\n",
       "       [1., 1., 1., 0.],\n",
       "       [0., 1., 1., 0.],\n",
       "       [0., 0., 3., 1.],\n",
       "       [1., 0., 3., 1.],\n",
       "       [1., 0., 1., 0.],\n",
       "       [0., 0., 2., 0.],\n",
       "       [1., 1., 2., 0.],\n",
       "       [0., 0., 3., 1.],\n",
       "       [0., 1., 1., 0.],\n",
       "       [1., 1., 1., 0.],\n",
       "       [1., 0., 1., 0.],\n",
       "       [1., 1., 3., 1.],\n",
       "       [0., 0., 2., 0.],\n",
       "       [1., 1., 2., 0.],\n",
       "       [1., 0., 2., 0.],\n",
       "       [1., 1., 1., 0.],\n",
       "       [0., 0., 3., 1.],\n",
       "       [0., 0., 2., 0.],\n",
       "       [1., 0., 3., 1.],\n",
       "       [1., 0., 1., 0.],\n",
       "       [1., 0., 2., 0.],\n",
       "       [1., 0., 3., 1.],\n",
       "       [1., 0., 1., 0.],\n",
       "       [1., 0., 2., 0.],\n",
       "       [1., 0., 1., 0.],\n",
       "       [1., 1., 2., 0.],\n",
       "       [0., 0., 3., 1.],\n",
       "       [1., 1., 1., 0.],\n",
       "       [0., 0., 2., 0.],\n",
       "       [0., 1., 3., 1.],\n",
       "       [1., 1., 2., 0.],\n",
       "       [0., 0., 3., 1.],\n",
       "       [1., 0., 3., 1.],\n",
       "       [0., 1., 1., 0.],\n",
       "       [1., 1., 1., 0.],\n",
       "       [1., 0., 1., 0.],\n",
       "       [1., 0., 1., 0.],\n",
       "       [0., 0., 2., 0.],\n",
       "       [1., 0., 1., 0.],\n",
       "       [0., 1., 2., 0.],\n",
       "       [1., 0., 2., 0.],\n",
       "       [0., 1., 1., 0.],\n",
       "       [1., 1., 2., 0.],\n",
       "       [1., 1., 2., 0.],\n",
       "       [1., 1., 2., 0.],\n",
       "       [1., 0., 1., 0.],\n",
       "       [1., 0., 1., 0.],\n",
       "       [1., 0., 3., 1.],\n",
       "       [0., 1., 1., 0.],\n",
       "       [1., 0., 1., 0.],\n",
       "       [1., 1., 1., 0.],\n",
       "       [1., 1., 1., 0.],\n",
       "       [0., 1., 1., 0.],\n",
       "       [1., 0., 1., 0.],\n",
       "       [1., 0., 1., 0.],\n",
       "       [1., 1., 1., 0.],\n",
       "       [0., 1., 3., 1.],\n",
       "       [0., 0., 3., 1.],\n",
       "       [0., 0., 1., 0.],\n",
       "       [0., 0., 3., 1.],\n",
       "       [1., 0., 2., 0.],\n",
       "       [1., 0., 0., 0.],\n",
       "       [0., 1., 3., 1.],\n",
       "       [1., 0., 2., 0.],\n",
       "       [1., 0., 2., 0.],\n",
       "       [1., 0., 2., 0.],\n",
       "       [1., 0., 2., 0.],\n",
       "       [1., 0., 3., 1.],\n",
       "       [1., 1., 3., 1.],\n",
       "       [0., 1., 1., 0.],\n",
       "       [0., 0., 2., 0.],\n",
       "       [0., 0., 3., 1.],\n",
       "       [1., 0., 2., 0.],\n",
       "       [1., 1., 3., 1.],\n",
       "       [0., 0., 1., 0.],\n",
       "       [1., 1., 1., 0.],\n",
       "       [0., 0., 3., 1.],\n",
       "       [0., 0., 1., 0.],\n",
       "       [0., 1., 2., 0.],\n",
       "       [1., 1., 3., 1.],\n",
       "       [1., 0., 1., 0.],\n",
       "       [0., 1., 0., 1.],\n",
       "       [1., 1., 1., 0.],\n",
       "       [1., 0., 2., 0.],\n",
       "       [1., 1., 3., 1.],\n",
       "       [1., 0., 2., 0.],\n",
       "       [1., 1., 1., 0.],\n",
       "       [1., 1., 2., 0.],\n",
       "       [1., 1., 1., 0.],\n",
       "       [0., 0., 2., 0.],\n",
       "       [0., 1., 3., 1.],\n",
       "       [1., 0., 3., 1.],\n",
       "       [1., 1., 1., 0.],\n",
       "       [1., 0., 2., 0.],\n",
       "       [1., 0., 1., 0.],\n",
       "       [1., 0., 2., 0.],\n",
       "       [0., 0., 1., 0.],\n",
       "       [1., 1., 3., 1.],\n",
       "       [0., 0., 3., 1.],\n",
       "       [0., 0., 2., 0.],\n",
       "       [0., 0., 3., 1.],\n",
       "       [1., 1., 1., 0.],\n",
       "       [1., 0., 3., 1.],\n",
       "       [0., 0., 0., 0.],\n",
       "       [1., 0., 2., 0.],\n",
       "       [1., 0., 2., 0.],\n",
       "       [0., 1., 1., 0.],\n",
       "       [1., 1., 1., 0.],\n",
       "       [0., 1., 3., 1.],\n",
       "       [1., 0., 1., 0.],\n",
       "       [0., 0., 3., 1.],\n",
       "       [0., 0., 1., 0.],\n",
       "       [1., 0., 2., 0.],\n",
       "       [0., 1., 1., 0.],\n",
       "       [0., 0., 3., 1.],\n",
       "       [0., 0., 2., 0.],\n",
       "       [1., 0., 1., 0.],\n",
       "       [0., 0., 2., 0.],\n",
       "       [1., 0., 3., 1.],\n",
       "       [1., 0., 3., 1.],\n",
       "       [1., 1., 1., 0.],\n",
       "       [1., 0., 3., 1.],\n",
       "       [0., 0., 1., 0.],\n",
       "       [1., 0., 2., 0.],\n",
       "       [1., 0., 3., 1.],\n",
       "       [0., 0., 3., 1.],\n",
       "       [0., 0., 3., 1.],\n",
       "       [1., 1., 1., 0.],\n",
       "       [1., 1., 2., 0.],\n",
       "       [1., 0., 1., 0.],\n",
       "       [1., 0., 2., 0.],\n",
       "       [1., 0., 2., 0.],\n",
       "       [0., 1., 1., 0.],\n",
       "       [1., 1., 0., 1.],\n",
       "       [1., 0., 1., 0.],\n",
       "       [1., 0., 2., 0.],\n",
       "       [1., 0., 2., 0.],\n",
       "       [0., 1., 0., 0.],\n",
       "       [1., 0., 2., 0.],\n",
       "       [1., 0., 2., 0.],\n",
       "       [0., 1., 1., 0.],\n",
       "       [1., 0., 3., 1.],\n",
       "       [1., 0., 0., 0.],\n",
       "       [0., 0., 0., 1.],\n",
       "       [1., 0., 3., 1.],\n",
       "       [0., 0., 3., 1.]])"
      ]
     },
     "execution_count": 13,
     "metadata": {},
     "output_type": "execute_result"
    }
   ],
   "source": [
    "from sklearn.preprocessing import OrdinalEncoder\n",
    "\n",
    "ordinal_encoder = OrdinalEncoder()\n",
    "X_train_cat_encoded = ordinal_encoder.fit_transform(X_train_cat)\n",
    "X_train_cat_encoded"
   ]
  },
  {
   "cell_type": "code",
   "execution_count": null,
   "metadata": {
    "id": "yxUYZU4f0Ktg",
    "outputId": "7acd3b1d-0d5c-407e-a1de-c405e8f1b08c"
   },
   "outputs": [
    {
     "name": "stdout",
     "output_type": "stream",
     "text": [
      "(170, 7)\n"
     ]
    }
   ],
   "source": [
    "from sklearn.preprocessing import OneHotEncoder\n",
    "\n",
    "cat_encoder = OneHotEncoder(sparse=False, drop='if_binary')\n",
    "X_train_cat_1hot = cat_encoder.fit_transform(X_train_cat)\n",
    "print(X_train_cat_1hot.shape)\n",
    "\n",
    "#[참고] 나는 안돼 버전이 안맞아\n",
    "# columns_1hot = cat_encoder.get_feature_names_out(X_train_cat.columns)\n",
    "# print(columns_1hot)\n"
   ]
  },
  {
   "cell_type": "markdown",
   "metadata": {
    "id": "R0eTyxZ1zm8P"
   },
   "source": [
    "#### 3.3. `수치형/범주형 변수 전처리 파이프라인` 생성"
   ]
  },
  {
   "cell_type": "code",
   "execution_count": null,
   "metadata": {
    "colab": {
     "base_uri": "https://localhost:8080/",
     "height": 248
    },
    "id": "hpKh5163zm8P",
    "outputId": "81db3b9c-512b-4a85-9fb5-c62453d53369"
   },
   "outputs": [
    {
     "ename": "NameError",
     "evalue": "ignored",
     "output_type": "error",
     "traceback": [
      "\u001b[0;31m---------------------------------------------------------------------------\u001b[0m",
      "\u001b[0;31mNameError\u001b[0m                                 Traceback (most recent call last)",
      "\u001b[0;32m<ipython-input-3-7237b057f5a0>\u001b[0m in \u001b[0;36m<module>\u001b[0;34m\u001b[0m\n\u001b[1;32m     10\u001b[0m \u001b[0;31m# 수치형 변수 전처리를 위한 파이프라인 설정\u001b[0m\u001b[0;34m\u001b[0m\u001b[0;34m\u001b[0m\u001b[0;34m\u001b[0m\u001b[0m\n\u001b[1;32m     11\u001b[0m num_pipeline = Pipeline([\n\u001b[0;32m---> 12\u001b[0;31m         \u001b[0;34m(\u001b[0m\u001b[0;34m'imputer_num'\u001b[0m\u001b[0;34m,\u001b[0m \u001b[0mSimpleImputer\u001b[0m\u001b[0;34m(\u001b[0m\u001b[0mstrategy\u001b[0m\u001b[0;34m=\u001b[0m\u001b[0;34m\"median\"\u001b[0m\u001b[0;34m)\u001b[0m\u001b[0;34m)\u001b[0m\u001b[0;34m,\u001b[0m\u001b[0;34m\u001b[0m\u001b[0;34m\u001b[0m\u001b[0m\n\u001b[0m\u001b[1;32m     13\u001b[0m         \u001b[0;34m(\u001b[0m\u001b[0;34m'std_scaler'\u001b[0m\u001b[0;34m,\u001b[0m \u001b[0mStandardScaler\u001b[0m\u001b[0;34m(\u001b[0m\u001b[0;34m)\u001b[0m\u001b[0;34m)\u001b[0m\u001b[0;34m,\u001b[0m\u001b[0;34m\u001b[0m\u001b[0;34m\u001b[0m\u001b[0m\n\u001b[1;32m     14\u001b[0m     ])\n",
      "\u001b[0;31mNameError\u001b[0m: name 'SimpleImputer' is not defined"
     ]
    }
   ],
   "source": [
    "from sklearn.pipeline import Pipeline\n",
    "from sklearn.compose import ColumnTransformer # scikit 0.2부터 적용\n",
    "\n",
    "# 수치형 / 범주형 변수 선언\n",
    "num_var = ['total_bill', 'size' ]\n",
    "cat_var = ['sex', 'smoker', 'day', 'time']\n",
    "# num_var = X_train.select_dtypes(include=np.number).columns.tolist()\n",
    "# cat_var = X_train.select_dtypes(exclude=np.number).columns.tolist()\n",
    "\n",
    "# 수치형 변수 전처리를 위한 파이프라인 설정\n",
    "num_pipeline = Pipeline([\n",
    "        ('imputer_num', SimpleImputer(strategy=\"median\")),\n",
    "        ('std_scaler', StandardScaler()),\n",
    "    ])\n",
    "\n",
    "# 범주형 변수 전처리를 위한 파이프라인 설정\n",
    "cat_pipeline = Pipeline([\n",
    "        ('imputer_cat', SimpleImputer(strategy=\"most_frequent\")),\n",
    "        ('encoder', OneHotEncoder(sparse=False, drop='if_binary')),\n",
    "    ])\n",
    "\n",
    "# 수치형 / 범주형 변수에 대한 자동 전처리를 위한 파이프라인 설정\n",
    "\n",
    "full_pipeline = ColumnTransformer([\n",
    "        (\"num\", num_pipeline, num_var),\n",
    "        (\"cat\", cat_pipeline, cat_var)])\n",
    "\n",
    "X_train_pretained = full_pipeline.fit_transform(X_train)"
   ]
  },
  {
   "cell_type": "code",
   "execution_count": null,
   "metadata": {
    "id": "haXZ4WwOzm8Q",
    "outputId": "6b291dca-1c99-4da8-9b45-30ba94d8df30"
   },
   "outputs": [
    {
     "data": {
      "text/plain": [
       "array([[ 0.26102374, -0.59372484,  1.        ,  0.        ,  0.        ,\n",
       "         0.        ,  1.        ,  0.        ,  0.        ],\n",
       "       [-0.28481072,  0.45766289,  1.        ,  0.        ,  0.        ,\n",
       "         0.        ,  1.        ,  0.        ,  0.        ],\n",
       "       [ 0.48506847, -0.59372484,  1.        ,  1.        ,  0.        ,\n",
       "         1.        ,  0.        ,  0.        ,  0.        ],\n",
       "       [-0.18706572,  0.45766289,  0.        ,  1.        ,  0.        ,\n",
       "         0.        ,  1.        ,  0.        ,  0.        ],\n",
       "       [-0.38914528,  0.45766289,  1.        ,  0.        ,  0.        ,\n",
       "         1.        ,  0.        ,  0.        ,  0.        ],\n",
       "       [-0.81526957, -0.59372484,  0.        ,  0.        ,  0.        ,\n",
       "         0.        ,  0.        ,  1.        ,  1.        ],\n",
       "       [-0.26284556, -0.59372484,  1.        ,  0.        ,  0.        ,\n",
       "         0.        ,  1.        ,  0.        ,  0.        ],\n",
       "       [-0.90752328, -0.59372484,  1.        ,  1.        ,  0.        ,\n",
       "         1.        ,  0.        ,  0.        ,  0.        ],\n",
       "       [-0.74937406, -0.59372484,  1.        ,  0.        ,  0.        ,\n",
       "         0.        ,  0.        ,  1.        ,  1.        ],\n",
       "       [-1.04590385,  0.45766289,  0.        ,  0.        ,  0.        ,\n",
       "         0.        ,  1.        ,  0.        ,  0.        ],\n",
       "       [-0.21232567, -0.59372484,  1.        ,  1.        ,  0.        ,\n",
       "         1.        ,  0.        ,  0.        ,  0.        ],\n",
       "       [-0.11787544, -0.59372484,  0.        ,  0.        ,  0.        ,\n",
       "         0.        ,  0.        ,  1.        ,  0.        ],\n",
       "       [-0.56267012, -0.59372484,  0.        ,  0.        ,  0.        ,\n",
       "         1.        ,  0.        ,  0.        ,  0.        ],\n",
       "       [-0.69665765, -0.59372484,  1.        ,  1.        ,  0.        ,\n",
       "         0.        ,  0.        ,  1.        ,  1.        ],\n",
       "       [-0.7219176 , -0.59372484,  1.        ,  0.        ,  0.        ,\n",
       "         1.        ,  0.        ,  0.        ,  0.        ],\n",
       "       [ 0.09189193,  2.56043835,  1.        ,  0.        ,  0.        ,\n",
       "         0.        ,  1.        ,  0.        ,  0.        ],\n",
       "       [ 0.77171393,  1.50905062,  1.        ,  0.        ,  0.        ,\n",
       "         0.        ,  1.        ,  0.        ,  0.        ],\n",
       "       [-0.45723731, -0.59372484,  1.        ,  1.        ,  0.        ,\n",
       "         0.        ,  1.        ,  0.        ,  0.        ],\n",
       "       [-0.84492255, -0.59372484,  1.        ,  1.        ,  1.        ,\n",
       "         0.        ,  0.        ,  0.        ,  1.        ],\n",
       "       [-0.21562044, -0.59372484,  1.        ,  1.        ,  0.        ,\n",
       "         0.        ,  1.        ,  0.        ,  0.        ],\n",
       "       [ 0.09189193,  1.50905062,  0.        ,  0.        ,  0.        ,\n",
       "         1.        ,  0.        ,  0.        ,  0.        ],\n",
       "       [ 0.56524134,  1.50905062,  0.        ,  0.        ,  0.        ,\n",
       "         0.        ,  1.        ,  0.        ,  0.        ],\n",
       "       [-1.23809908, -1.64511256,  1.        ,  1.        ,  1.        ,\n",
       "         0.        ,  0.        ,  0.        ,  1.        ],\n",
       "       [ 3.39984646,  0.45766289,  1.        ,  1.        ,  0.        ,\n",
       "         1.        ,  0.        ,  0.        ,  0.        ],\n",
       "       [-0.30567764,  0.45766289,  0.        ,  0.        ,  0.        ,\n",
       "         1.        ,  0.        ,  0.        ,  0.        ],\n",
       "       [ 0.72009578, -0.59372484,  0.        ,  0.        ,  0.        ,\n",
       "         1.        ,  0.        ,  0.        ,  0.        ],\n",
       "       [ 0.06992676, -0.59372484,  1.        ,  1.        ,  0.        ,\n",
       "         1.        ,  0.        ,  0.        ,  0.        ],\n",
       "       [ 3.12747836,  1.50905062,  1.        ,  0.        ,  0.        ,\n",
       "         1.        ,  0.        ,  0.        ,  0.        ],\n",
       "       [-0.38804702, -0.59372484,  0.        ,  1.        ,  1.        ,\n",
       "         0.        ,  0.        ,  0.        ,  0.        ],\n",
       "       [-0.63515518, -0.59372484,  1.        ,  0.        ,  0.        ,\n",
       "         0.        ,  1.        ,  0.        ,  0.        ],\n",
       "       [-0.17718139, -0.59372484,  1.        ,  0.        ,  0.        ,\n",
       "         1.        ,  0.        ,  0.        ,  0.        ],\n",
       "       [-0.93388148, -0.59372484,  0.        ,  1.        ,  1.        ,\n",
       "         0.        ,  0.        ,  0.        ,  0.        ],\n",
       "       [ 2.23129944,  1.50905062,  1.        ,  1.        ,  1.        ,\n",
       "         0.        ,  0.        ,  0.        ,  0.        ],\n",
       "       [ 0.04576508, -0.59372484,  0.        ,  0.        ,  0.        ,\n",
       "         0.        ,  0.        ,  1.        ,  1.        ],\n",
       "       [-0.39353831, -0.59372484,  0.        ,  1.        ,  1.        ,\n",
       "         0.        ,  0.        ,  0.        ,  1.        ],\n",
       "       [-1.01295609, -0.59372484,  0.        ,  1.        ,  0.        ,\n",
       "         1.        ,  0.        ,  0.        ,  0.        ],\n",
       "       [-0.61428827, -0.59372484,  1.        ,  0.        ,  0.        ,\n",
       "         0.        ,  0.        ,  1.        ,  1.        ],\n",
       "       [-0.42868258, -0.59372484,  1.        ,  0.        ,  0.        ,\n",
       "         0.        ,  0.        ,  1.        ,  1.        ],\n",
       "       [-0.24856819,  0.45766289,  1.        ,  0.        ,  0.        ,\n",
       "         1.        ,  0.        ,  0.        ,  0.        ],\n",
       "       [-1.11729065, -0.59372484,  1.        ,  0.        ,  0.        ,\n",
       "         0.        ,  1.        ,  0.        ,  0.        ],\n",
       "       [-0.75266884, -0.59372484,  0.        ,  1.        ,  0.        ,\n",
       "         0.        ,  0.        ,  1.        ,  1.        ],\n",
       "       [ 0.53339184, -0.59372484,  1.        ,  0.        ,  0.        ,\n",
       "         0.        ,  0.        ,  1.        ,  1.        ],\n",
       "       [-0.52862411, -0.59372484,  1.        ,  0.        ,  0.        ,\n",
       "         0.        ,  1.        ,  0.        ,  0.        ],\n",
       "       [-0.42538781, -0.59372484,  1.        ,  0.        ,  0.        ,\n",
       "         0.        ,  0.        ,  1.        ,  1.        ],\n",
       "       [ 0.42027122, -0.59372484,  1.        ,  0.        ,  0.        ,\n",
       "         0.        ,  1.        ,  0.        ,  0.        ],\n",
       "       [ 2.55418744,  1.50905062,  0.        ,  1.        ,  0.        ,\n",
       "         0.        ,  0.        ,  1.        ,  1.        ],\n",
       "       [-0.64284299, -0.59372484,  1.        ,  0.        ,  0.        ,\n",
       "         1.        ,  0.        ,  0.        ,  0.        ],\n",
       "       [ 1.16489046,  2.56043835,  1.        ,  1.        ,  0.        ,\n",
       "         0.        ,  1.        ,  0.        ,  0.        ],\n",
       "       [ 1.37795261,  1.50905062,  1.        ,  0.        ,  0.        ,\n",
       "         0.        ,  1.        ,  0.        ,  0.        ],\n",
       "       [ 1.0078395 ,  0.45766289,  1.        ,  0.        ,  0.        ,\n",
       "         1.        ,  0.        ,  0.        ,  0.        ],\n",
       "       [ 0.46420156,  1.50905062,  0.        ,  0.        ,  0.        ,\n",
       "         0.        ,  0.        ,  1.        ,  1.        ],\n",
       "       [-0.64943254, -0.59372484,  1.        ,  0.        ,  0.        ,\n",
       "         0.        ,  1.        ,  0.        ,  0.        ],\n",
       "       [-0.12775976,  0.45766289,  1.        ,  0.        ,  0.        ,\n",
       "         1.        ,  0.        ,  0.        ,  0.        ],\n",
       "       [ 0.18963694, -0.59372484,  1.        ,  0.        ,  0.        ,\n",
       "         0.        ,  1.        ,  0.        ,  0.        ],\n",
       "       [-0.60879698, -0.59372484,  0.        ,  1.        ,  0.        ,\n",
       "         1.        ,  0.        ,  0.        ,  0.        ],\n",
       "       [ 0.46200504,  0.45766289,  1.        ,  0.        ,  0.        ,\n",
       "         1.        ,  0.        ,  0.        ,  0.        ],\n",
       "       [ 1.10668276,  1.50905062,  1.        ,  0.        ,  0.        ,\n",
       "         0.        ,  1.        ,  0.        ,  0.        ],\n",
       "       [-0.80318873, -0.59372484,  1.        ,  0.        ,  0.        ,\n",
       "         0.        ,  1.        ,  0.        ,  0.        ],\n",
       "       [-0.48030073, -0.59372484,  1.        ,  1.        ,  0.        ,\n",
       "         0.        ,  0.        ,  1.        ,  1.        ],\n",
       "       [-0.77902704, -0.59372484,  0.        ,  1.        ,  0.        ,\n",
       "         1.        ,  0.        ,  0.        ,  0.        ],\n",
       "       [ 0.1270362 , -0.59372484,  1.        ,  1.        ,  1.        ,\n",
       "         0.        ,  0.        ,  0.        ,  0.        ],\n",
       "       [ 0.80466168, -0.59372484,  0.        ,  1.        ,  0.        ,\n",
       "         1.        ,  0.        ,  0.        ,  0.        ],\n",
       "       [-0.37596618, -0.59372484,  0.        ,  0.        ,  0.        ,\n",
       "         0.        ,  0.        ,  1.        ,  1.        ],\n",
       "       [-0.13325105,  0.45766289,  0.        ,  0.        ,  0.        ,\n",
       "         0.        ,  0.        ,  1.        ,  1.        ],\n",
       "       [-0.79659917, -0.59372484,  1.        ,  1.        ,  0.        ,\n",
       "         1.        ,  0.        ,  0.        ,  0.        ],\n",
       "       [-1.07445857, -0.59372484,  1.        ,  0.        ,  0.        ,\n",
       "         1.        ,  0.        ,  0.        ,  0.        ],\n",
       "       [ 0.36426003,  1.50905062,  1.        ,  1.        ,  0.        ,\n",
       "         0.        ,  1.        ,  0.        ,  0.        ],\n",
       "       [ 0.66298634,  1.50905062,  1.        ,  1.        ,  0.        ,\n",
       "         1.        ,  0.        ,  0.        ,  0.        ],\n",
       "       [-0.85919991, -0.59372484,  1.        ,  1.        ,  1.        ,\n",
       "         0.        ,  0.        ,  0.        ,  0.        ],\n",
       "       [ 1.0924054 ,  3.61182608,  0.        ,  0.        ,  0.        ,\n",
       "         0.        ,  0.        ,  1.        ,  1.        ],\n",
       "       [ 0.0874989 ,  0.45766289,  1.        ,  0.        ,  0.        ,\n",
       "         1.        ,  0.        ,  0.        ,  0.        ],\n",
       "       [-0.19914656, -0.59372484,  1.        ,  0.        ,  0.        ,\n",
       "         0.        ,  1.        ,  0.        ,  0.        ],\n",
       "       [-0.3331341 , -0.59372484,  1.        ,  1.        ,  0.        ,\n",
       "         0.        ,  1.        ,  0.        ,  0.        ],\n",
       "       [-0.55168753, -0.59372484,  0.        ,  0.        ,  0.        ,\n",
       "         0.        ,  1.        ,  0.        ,  0.        ]])"
      ]
     },
     "execution_count": 16,
     "metadata": {},
     "output_type": "execute_result"
    }
   ],
   "source": [
    "full_pipeline.fit(X_train)\n",
    "full_pipeline.transform(X_test)"
   ]
  },
  {
   "cell_type": "code",
   "execution_count": null,
   "metadata": {
    "id": "BLcAhuTRzm8Q"
   },
   "outputs": [],
   "source": [
    "# [참고] \n",
    "# columns_num = num_var\n",
    "# columns_cat = list(full_pipeline.transformers_[1][1]['encoder'].get_feature_names_out(cat_var))\n",
    "# columns = columns_num + columns_cat\n",
    "# print(columns)"
   ]
  },
  {
   "cell_type": "code",
   "execution_count": null,
   "metadata": {
    "id": "nGsDpvgZzm8Q",
    "outputId": "2abb18ee-81bb-434c-9bd9-166f4b641630"
   },
   "outputs": [
    {
     "data": {
      "text/plain": [
       "(170, 9)"
      ]
     },
     "execution_count": 18,
     "metadata": {},
     "output_type": "execute_result"
    }
   ],
   "source": [
    "X_train_pretained.shape"
   ]
  },
  {
   "cell_type": "markdown",
   "metadata": {
    "id": "7oN9YGXyzm8Q"
   },
   "source": [
    "### 4. 모델 선택과 훈련 \n",
    "\n",
    "> * scikitlearn 개별 모델의 기본 적용형식은 다음의 순서를 따름\n",
    "> 1. `fit` : 학습\n",
    "> 2. `predict` : 적용\n",
    "\n",
    "#### 4.1. `모델 선택` 및 `훈련` (최적 하이퍼파라미터 탐색이 필요없는 경우)\n",
    "> 회귀분석, 로지스틱 회귀분석 등의 경우 해당됨\n"
   ]
  },
  {
   "cell_type": "markdown",
   "metadata": {
    "id": "tsyHq7VBzm8Q"
   },
   "source": [
    "#### 4.1.1. 모델 선택 (회귀분석) 및 학습"
   ]
  },
  {
   "cell_type": "code",
   "execution_count": null,
   "metadata": {
    "id": "hWeWjs7Jzm8R",
    "outputId": "5c0e60fe-875b-4adc-de95-aaa295b6e3d3"
   },
   "outputs": [
    {
     "data": {
      "text/plain": [
       "LinearRegression()"
      ]
     },
     "execution_count": 19,
     "metadata": {},
     "output_type": "execute_result"
    }
   ],
   "source": [
    "from sklearn.linear_model import LinearRegression\n",
    "\n",
    "model_linear = LinearRegression(fit_intercept=True, n_jobs=None)\n",
    "model_linear.fit(X_train_pretained, y_train)"
   ]
  },
  {
   "cell_type": "markdown",
   "metadata": {
    "id": "kfcqTu_0zm8R"
   },
   "source": [
    "#### 4.1.2. 모델 적용 및 성능평가"
   ]
  },
  {
   "cell_type": "code",
   "execution_count": null,
   "metadata": {
    "id": "9FF3Ksx-zm8R",
    "outputId": "a21a65d7-f4f6-4bec-f8f4-152add431605"
   },
   "outputs": [
    {
     "name": "stdout",
     "output_type": "stream",
     "text": [
      "mse_linear:1.5019050951834274\n",
      "rmse_linear:1.2255223764515388\n",
      "mae_linear:0.8524434935769155\n"
     ]
    }
   ],
   "source": [
    "from sklearn.metrics import mean_squared_error\n",
    "from sklearn.metrics import mean_absolute_error\n",
    "# from sklearn.metrics import mean_absolute_percentage_error\n",
    "\n",
    "# 평가 데이터에 대한 전처리\n",
    "X_test_prepared = full_pipeline.transform(X_test)  \n",
    "\n",
    "# 평가 데이터에 대한 예측\n",
    "y_test_hat = model_linear.predict(X_test_prepared)\n",
    "\n",
    "# 평가 데이터에 대한 평가\n",
    "mse_linear = mean_squared_error(y_test, y_test_hat, squared=True) # mean squared error\n",
    "rmse_linear = mean_squared_error(y_test, y_test_hat, squared=False) # root mean squared error\n",
    "mae_linear = mean_absolute_error(y_test, y_test_hat) # mean absolute error\n",
    "# mape_linear = mean_absolute_percentage_error(y_test, y_test_hat) # mean absolute error\n",
    "\n",
    "print(f'mse_linear:{mse_linear}')\n",
    "print(f'rmse_linear:{rmse_linear}')\n",
    "print(f'mae_linear:{mae_linear}')\n",
    "# print(f'mape_linear:{mape_linear}')"
   ]
  },
  {
   "cell_type": "markdown",
   "metadata": {
    "id": "MtrP5CUyzm8R"
   },
   "source": [
    "#### 4.2. `모델 선택` 및 `훈련` (최적 하이퍼파라미터 탐색이 필요한 경우)\n",
    "> 의사결정나무, K-NN, SVM 등의 경우 해당됨\n",
    "\n",
    "#### 4.2.1. 모델 선택 (의사결정나무 (회귀나무))"
   ]
  },
  {
   "cell_type": "code",
   "execution_count": null,
   "metadata": {
    "id": "a3HVe3Pszm8R"
   },
   "outputs": [],
   "source": [
    "from sklearn.tree import DecisionTreeRegressor\n",
    "\n",
    "model_tree = DecisionTreeRegressor()"
   ]
  },
  {
   "cell_type": "markdown",
   "metadata": {
    "id": "rHrF4-M1zm8S"
   },
   "source": [
    "#### 4.2.2. 최적 하이퍼파라미터 탐색\n",
    "* GridSearchCV를 이용하여 최적 하이퍼파라미터 탐색수행\n",
    "* 최적 하이퍼파라미터 탐색 방법\n",
    "> 1. 최적화할 하이퍼파라미터 구간 설정 \n",
    "> 2. 최적 하이퍼파라미터 탐색\n",
    "> 3. 최적 하이퍼파라미터로 재학습\n",
    "\n"
   ]
  },
  {
   "cell_type": "code",
   "execution_count": null,
   "metadata": {
    "id": "4UiV_gDHzm8S"
   },
   "outputs": [],
   "source": [
    "from sklearn.model_selection import GridSearchCV"
   ]
  },
  {
   "cell_type": "code",
   "execution_count": null,
   "metadata": {
    "id": "mvHLB93Ozm8S"
   },
   "outputs": [],
   "source": [
    "# 1. 최적화할 하이퍼파라미터 구간 설정\n",
    "param_grid = {\n",
    "    'max_depth': [None, 6, 9, 12],\n",
    "    'min_samples_split': [0.01, 0.05, 0.1],\n",
    "    'max_features': ['auto', 'sqrt'],\n",
    "}"
   ]
  },
  {
   "cell_type": "code",
   "execution_count": null,
   "metadata": {
    "id": "CWxvdLm6zm8S",
    "outputId": "882eca95-3b48-4f5e-e3e6-1d50cb2becc0"
   },
   "outputs": [
    {
     "name": "stdout",
     "output_type": "stream",
     "text": [
      "best_parameter: {'max_depth': 6, 'max_features': 'auto', 'min_samples_split': 0.1}\n",
      "best_score: 1.0912752330734115\n"
     ]
    }
   ],
   "source": [
    "# 2. 최적 하이퍼파라미터 탐색 and 3. 최적 하이퍼파라미터로 재학습(refit = True)\n",
    "grid_search = GridSearchCV(estimator = model_tree, \n",
    "                           param_grid = param_grid, \n",
    "                           cv = 5, # 5 fold CV\n",
    "                           scoring = 'neg_mean_squared_error',\n",
    "                           refit = True, # 탐색된 최적 파라미터로 전체 데이터에 대해서 다시 학습을 수행하도록 함\n",
    "                           n_jobs = -1 \n",
    "                          )\n",
    "\n",
    "grid_search.fit(X_train_pretained, y_train)\n",
    "\n",
    "best_model = grid_search.best_estimator_  # 탐색된 최적 파라미터로 학습된 모델 \n",
    "print(f'best_parameter: {grid_search.best_params_}') # 탐색된 최적 파라미터\n",
    "print(f'best_score: {- grid_search.best_score_}') # 탐색된 최적 파라미터로 학습된 결과 "
   ]
  },
  {
   "cell_type": "markdown",
   "metadata": {
    "id": "7RRGVV-Vzm8T"
   },
   "source": [
    "#### 4.2.3. 모델 적용 및 성능평가"
   ]
  },
  {
   "cell_type": "code",
   "execution_count": null,
   "metadata": {
    "id": "wfCkPGHxzm8T",
    "outputId": "f95c6601-8377-451d-be1e-80a1fcf414b2"
   },
   "outputs": [
    {
     "name": "stdout",
     "output_type": "stream",
     "text": [
      "mse_linear:1.8730806964618532\n",
      "rmse_linear:1.3686053837618253\n",
      "mae_linear:0.880709211959212\n"
     ]
    }
   ],
   "source": [
    "from sklearn.metrics import mean_squared_error\n",
    "from sklearn.metrics import mean_absolute_error\n",
    "\n",
    "# 평가 데이터에 대한 전처리\n",
    "X_test_prepared = full_pipeline.transform(X_test)  \n",
    "\n",
    "# 평가 데이터에 대한 예측\n",
    "y_test_hat = best_model.predict(X_test_prepared)\n",
    "\n",
    "# 평가 데이터에 대한 평가\n",
    "mse_linear = mean_squared_error(y_test, y_test_hat, squared=True) # mean squared error\n",
    "rmse_linear = mean_squared_error(y_test, y_test_hat, squared=False) # root mean squared error\n",
    "mae_linear = mean_absolute_error(y_test, y_test_hat) # mean absolute error\n",
    "\n",
    "print(f'mse_linear:{mse_linear}')\n",
    "print(f'rmse_linear:{rmse_linear}')\n",
    "print(f'mae_linear:{mae_linear}')\n",
    "\n"
   ]
  },
  {
   "cell_type": "markdown",
   "metadata": {
    "id": "NO0KPe8jzm8T"
   },
   "source": [
    "### 5. joblib를 사용한 Best 모델 저장"
   ]
  },
  {
   "cell_type": "code",
   "execution_count": null,
   "metadata": {
    "id": "P0aHlL_Hzm8T",
    "outputId": "0526ddd8-67a2-49ea-88f8-926aeb4c2fa5"
   },
   "outputs": [
    {
     "name": "stdout",
     "output_type": "stream",
     "text": [
      "mse_linear:1.8730806964618532\n",
      "rmse_linear:1.3686053837618253\n",
      "mae_linear:0.8807092119592117\n"
     ]
    }
   ],
   "source": [
    "# 전처리와 모델을 포함한 파이프라인 설정\n",
    "full_pipeline_with_model = Pipeline([\n",
    "        (\"preparation\", full_pipeline),\n",
    "        (\"best\", best_model)\n",
    "    ])\n",
    "\n",
    "# 전처리와 모델을 포함한 파이프라인 학습\n",
    "full_pipeline_with_model.fit(X_train, y_train)\n",
    "\n",
    "# 전처리와 모델을 포함한 파이프라인으로 학습된 최적 모델\n",
    "my_model = full_pipeline_with_model\n",
    "\n",
    "# 모델 저장\n",
    "import joblib\n",
    "joblib.dump(my_model, \"my_model.pkl\")\n",
    "\n",
    "# 모델 호출\n",
    "my_model_loaded = joblib.load(\"my_model.pkl\")\n",
    "\n",
    "# 호출된 모델로 평가 데이터 예측 \n",
    "y_test_hat = my_model_loaded.predict(X_test)\n",
    "\n",
    "# 평가 데이터에 대한 평가\n",
    "mse_linear = mean_squared_error(y_test, y_test_hat, squared=True) # mean squared error\n",
    "rmse_linear = mean_squared_error(y_test, y_test_hat, squared=False) # root mean squared error\n",
    "mae_linear = mean_absolute_error(y_test, y_test_hat) # mean absolute error\n",
    "\n",
    "\n",
    "print(f'mse_linear:{mse_linear}')\n",
    "print(f'rmse_linear:{rmse_linear}')\n",
    "print(f'mae_linear:{mae_linear}')\n"
   ]
  }
 ],
 "metadata": {
  "colab": {
   "provenance": []
  },
  "kernelspec": {
   "display_name": "Python 3",
   "language": "python",
   "name": "python3"
  },
  "language_info": {
   "codemirror_mode": {
    "name": "ipython",
    "version": 3
   },
   "file_extension": ".py",
   "mimetype": "text/x-python",
   "name": "python",
   "nbconvert_exporter": "python",
   "pygments_lexer": "ipython3",
   "version": "3.8.8"
  }
 },
 "nbformat": 4,
 "nbformat_minor": 0
}
